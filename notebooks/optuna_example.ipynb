{
 "cells": [
  {
   "cell_type": "code",
   "execution_count": 1,
   "id": "30f9f7f5",
   "metadata": {},
   "outputs": [],
   "source": [
    "import os\n",
    "import sys\n",
    "\n",
    "import torch\n",
    "import torch.optim as optim\n",
    "import os.path as osp\n",
    "\n",
    "sys.path.append(os.path.abspath(\"..\"))"
   ]
  },
  {
   "cell_type": "code",
   "execution_count": 2,
   "id": "83c3eb21",
   "metadata": {},
   "outputs": [
    {
     "name": "stderr",
     "output_type": "stream",
     "text": [
      "/nfs/research/icortes/ysong/anaconda3/envs/pyg_gpu/lib/python3.12/site-packages/tqdm/auto.py:21: TqdmWarning: IProgress not found. Please update jupyter and ipywidgets. See https://ipywidgets.readthedocs.io/en/stable/user_install.html\n",
      "  from .autonotebook import tqdm as notebook_tqdm\n"
     ]
    }
   ],
   "source": [
    "from CellGraphX.optim.optuna import run_optuna"
   ]
  },
  {
   "cell_type": "code",
   "execution_count": null,
   "id": "816af934",
   "metadata": {},
   "outputs": [
    {
     "name": "stderr",
     "output_type": "stream",
     "text": [
      "[I 2025-08-27 14:30:53,398] Using an existing study with name 'trial_optuna' instead of creating a new one.\n"
     ]
    },
    {
     "name": "stdout",
     "output_type": "stream",
     "text": [
      "Using an existing study with name 'trial_optuna' instead of creating a new one.\n",
      "Loading data from /nfs/research/irene/ysong/RESULTS/GeneCellType/GeneSpectra/MTG/CellGraphX/CellGraphX/data/mtg_all_sp_wilcox_data_with_og_ct_name.pt ...\n"
     ]
    },
    {
     "name": "stderr",
     "output_type": "stream",
     "text": [
      "/nfs/research/irene/ysong/RESULTS/GeneCellType/GeneSpectra/MTG/CellGraphX/CellGraphX/data/data_loader.py:21: FutureWarning: You are using `torch.load` with `weights_only=False` (the current default value), which uses the default pickle module implicitly. It is possible to construct malicious pickle data which will execute arbitrary code during unpickling (See https://github.com/pytorch/pytorch/blob/main/SECURITY.md#untrusted-models for more details). In a future release, the default value for `weights_only` will be flipped to `True`. This limits the functions that could be executed during unpickling. Arbitrary objects will no longer be allowed to be loaded via this mode unless they are explicitly allowlisted by the user via `torch.serialization.add_safe_globals`. We recommend you start setting `weights_only=True` for any use case where you don't have full control of the loaded file. Please open an issue on GitHub for any issues related to this experimental feature.\n",
      "  data = torch.load(data_path)\n"
     ]
    },
    {
     "name": "stdout",
     "output_type": "stream",
     "text": [
      "Split train val and test species\n"
     ]
    },
    {
     "name": "stderr",
     "output_type": "stream",
     "text": [
      "2025-08-27 14:31:01,107 - INFO - Epoch 1/10\n"
     ]
    },
    {
     "name": "stdout",
     "output_type": "stream",
     "text": [
      "This is the HeteroData you are working with:\n",
      "HeteroData(\n",
      "  species_origin_index={\n",
      "    0='H.sapiens',\n",
      "    1='H.sapiens',\n",
      "    2='H.sapiens',\n",
      "    3='H.sapiens',\n",
      "    4='H.sapiens',\n",
      "    5='H.sapiens',\n",
      "    6='H.sapiens',\n",
      "    7='H.sapiens',\n",
      "    8='H.sapiens',\n",
      "    9='H.sapiens',\n",
      "    10='H.sapiens',\n",
      "    11='H.sapiens',\n",
      "    12='H.sapiens',\n",
      "    13='H.sapiens',\n",
      "    14='H.sapiens',\n",
      "    15='H.sapiens',\n",
      "    16='H.sapiens',\n",
      "    17='H.sapiens',\n",
      "    18='H.sapiens',\n",
      "    19='H.sapiens',\n",
      "    20='H.sapiens',\n",
      "    21='H.sapiens',\n",
      "    22='H.sapiens',\n",
      "    23='H.sapiens',\n",
      "    24='M.mulatta',\n",
      "    25='M.mulatta',\n",
      "    26='M.mulatta',\n",
      "    27='M.mulatta',\n",
      "    28='M.mulatta',\n",
      "    29='M.mulatta',\n",
      "    30='M.mulatta',\n",
      "    31='M.mulatta',\n",
      "    32='M.mulatta',\n",
      "    33='M.mulatta',\n",
      "    34='M.mulatta',\n",
      "    35='M.mulatta',\n",
      "    36='M.mulatta',\n",
      "    37='M.mulatta',\n",
      "    38='M.mulatta',\n",
      "    39='M.mulatta',\n",
      "    40='M.mulatta',\n",
      "    41='M.mulatta',\n",
      "    42='M.mulatta',\n",
      "    43='M.mulatta',\n",
      "    44='M.mulatta',\n",
      "    45='M.mulatta',\n",
      "    46='M.mulatta',\n",
      "    47='M.mulatta',\n",
      "    48='C.jacchus',\n",
      "    49='C.jacchus',\n",
      "    50='C.jacchus',\n",
      "    51='C.jacchus',\n",
      "    52='C.jacchus',\n",
      "    53='C.jacchus',\n",
      "    54='C.jacchus',\n",
      "    55='C.jacchus',\n",
      "    56='C.jacchus',\n",
      "    57='C.jacchus',\n",
      "    58='C.jacchus',\n",
      "    59='C.jacchus',\n",
      "    60='C.jacchus',\n",
      "    61='C.jacchus',\n",
      "    62='C.jacchus',\n",
      "    63='C.jacchus',\n",
      "    64='C.jacchus',\n",
      "    65='C.jacchus',\n",
      "    66='C.jacchus',\n",
      "    67='C.jacchus',\n",
      "    68='C.jacchus',\n",
      "    69='C.jacchus',\n",
      "    70='C.jacchus',\n",
      "    71='C.jacchus',\n",
      "    72='P.troglodytes',\n",
      "    73='P.troglodytes',\n",
      "    74='P.troglodytes',\n",
      "    75='P.troglodytes',\n",
      "    76='P.troglodytes',\n",
      "    77='P.troglodytes',\n",
      "    78='P.troglodytes',\n",
      "    79='P.troglodytes',\n",
      "    80='P.troglodytes',\n",
      "    81='P.troglodytes',\n",
      "    82='P.troglodytes',\n",
      "    83='P.troglodytes',\n",
      "    84='P.troglodytes',\n",
      "    85='P.troglodytes',\n",
      "    86='P.troglodytes',\n",
      "    87='P.troglodytes',\n",
      "    88='P.troglodytes',\n",
      "    89='P.troglodytes',\n",
      "    90='P.troglodytes',\n",
      "    91='P.troglodytes',\n",
      "    92='P.troglodytes',\n",
      "    93='P.troglodytes',\n",
      "    94='P.troglodytes',\n",
      "    95='P.troglodytes',\n",
      "    96='G.gorilla',\n",
      "    97='G.gorilla',\n",
      "    98='G.gorilla',\n",
      "    99='G.gorilla',\n",
      "    100='G.gorilla',\n",
      "    101='G.gorilla',\n",
      "    102='G.gorilla',\n",
      "    103='G.gorilla',\n",
      "    104='G.gorilla',\n",
      "    105='G.gorilla',\n",
      "    106='G.gorilla',\n",
      "    107='G.gorilla',\n",
      "    108='G.gorilla',\n",
      "    109='G.gorilla',\n",
      "    110='G.gorilla',\n",
      "    111='G.gorilla',\n",
      "    112='G.gorilla',\n",
      "    113='G.gorilla',\n",
      "    114='G.gorilla',\n",
      "    115='G.gorilla',\n",
      "    116='G.gorilla',\n",
      "    117='G.gorilla',\n",
      "    118='G.gorilla',\n",
      "    119='G.gorilla',\n",
      "  },\n",
      "  cell_type_index_mapping={\n",
      "    Astro=0,\n",
      "    Chandelier=1,\n",
      "    Endo=2,\n",
      "    L2-3 IT=3,\n",
      "    L4 IT=4,\n",
      "    L5 ET=5,\n",
      "    L5 IT=6,\n",
      "    L5-6 NP=7,\n",
      "    L6 CT=8,\n",
      "    L6 IT=9,\n",
      "    L6 IT Car3=10,\n",
      "    L6b=11,\n",
      "    Lamp5=12,\n",
      "    Lamp5_Lhx6=13,\n",
      "    Micro-PVM=14,\n",
      "    OPC=15,\n",
      "    Oligo=16,\n",
      "    Pax6=17,\n",
      "    Pvalb=18,\n",
      "    Sncg=19,\n",
      "    Sst=20,\n",
      "    Sst Chodl=21,\n",
      "    VLMC=22,\n",
      "    Vip=23,\n",
      "  },\n",
      "  test_species='G.gorilla',\n",
      "  val_species='M.mulatta',\n",
      "  cell_type={\n",
      "    x=[120, 120],\n",
      "    y=[120],\n",
      "    train_mask=[120],\n",
      "    val_mask=[120],\n",
      "    test_mask=[120],\n",
      "  },\n",
      "  gene={ x=[92549, 29954] },\n",
      "  orthologous_group={ x=[14948, 14948] },\n",
      "  (gene, is_wilcox_marker_of, cell_type)={\n",
      "    edge_index=[2, 17520],\n",
      "    edge_weights=[17520],\n",
      "  },\n",
      "  (cell_type, rev_is_wilcox_marker_of, gene)={\n",
      "    edge_index=[2, 17520],\n",
      "    edge_weights=[17520],\n",
      "  },\n",
      "  (gene, is_in, orthologous_group)={ edge_index=[2, 49548] },\n",
      "  (orthologous_group, rev_is_in, gene)={ edge_index=[2, 49548] }\n",
      ")\n"
     ]
    },
    {
     "name": "stderr",
     "output_type": "stream",
     "text": [
      "2025-08-27 14:32:33,413 - INFO - Train Loss: 119.8441 | Train Acc: 0.0417 | Val Acc: 0.0417 | Test Acc: 0.0417\n",
      "2025-08-27 14:32:34,016 - INFO - Checkpoint saved to ./logs/best.pt\n",
      "2025-08-27 14:32:34,553 - INFO - Checkpoint saved to ./logs/latest.pt\n",
      "2025-08-27 14:32:34,554 - INFO - Epoch 2/10\n",
      "2025-08-27 14:34:07,507 - INFO - Train Loss: 139.8610 | Train Acc: 0.0417 | Val Acc: 0.0417 | Test Acc: 0.0417\n",
      "2025-08-27 14:34:08,068 - INFO - Checkpoint saved to ./logs/latest.pt\n",
      "2025-08-27 14:34:08,070 - INFO - Epoch 3/10\n",
      "2025-08-27 14:35:37,364 - INFO - Train Loss: 148.2147 | Train Acc: 0.0972 | Val Acc: 0.0417 | Test Acc: 0.0833\n",
      "2025-08-27 14:35:37,979 - INFO - Checkpoint saved to ./logs/latest.pt\n",
      "2025-08-27 14:35:37,981 - INFO - Epoch 4/10\n"
     ]
    }
   ],
   "source": [
    "best_trial = run_optuna(n_trials=10)\n",
    "print(\"Best hyperparameters:\", best_trial.params)"
   ]
  },
  {
   "cell_type": "code",
   "execution_count": null,
   "id": "c9f300d0",
   "metadata": {},
   "outputs": [],
   "source": []
  }
 ],
 "metadata": {
  "kernelspec": {
   "display_name": "PyG_GPU",
   "language": "python",
   "name": "pyg_gpu"
  },
  "language_info": {
   "codemirror_mode": {
    "name": "ipython",
    "version": 3
   },
   "file_extension": ".py",
   "mimetype": "text/x-python",
   "name": "python",
   "nbconvert_exporter": "python",
   "pygments_lexer": "ipython3",
   "version": "3.12.7"
  }
 },
 "nbformat": 4,
 "nbformat_minor": 5
}
