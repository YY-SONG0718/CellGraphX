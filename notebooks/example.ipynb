{
 "cells": [
  {
   "cell_type": "code",
   "execution_count": 1,
   "id": "3e64de03",
   "metadata": {},
   "outputs": [],
   "source": [
    "import os\n",
    "import sys\n",
    "\n",
    "import torch\n",
    "import torch.optim as optim\n",
    "import os.path as osp\n",
    "\n",
    "sys.path.append(os.path.abspath(\"..\"))"
   ]
  },
  {
   "cell_type": "code",
   "execution_count": 2,
   "id": "53a0d8f8",
   "metadata": {},
   "outputs": [],
   "source": [
    "from CellGraphX.configs.config import Config"
   ]
  },
  {
   "cell_type": "code",
   "execution_count": 3,
   "id": "704d50d4",
   "metadata": {},
   "outputs": [],
   "source": [
    "from CellGraphX.training.trainer import Trainer"
   ]
  },
  {
   "cell_type": "code",
   "execution_count": 4,
   "id": "099f0ebf",
   "metadata": {},
   "outputs": [
    {
     "name": "stderr",
     "output_type": "stream",
     "text": [
      "/nfs/research/icortes/ysong/anaconda3/envs/pyg_gpu/lib/python3.12/site-packages/sklearn/utils/_param_validation.py:14: UserWarning: A NumPy version >=1.23.5 and <2.3.0 is required for this version of SciPy (detected version 2.3.1)\n",
      "  from scipy.sparse import csr_matrix, issparse\n"
     ]
    }
   ],
   "source": [
    "from CellGraphX.configs.config import Config\n",
    "from CellGraphX.data.data_loader import data_loader, edge_weight_dict_loader\n",
    "from CellGraphX.evaluation.tsne_vis import TSNE_vis\n",
    "from CellGraphX.models.model import model_builder\n",
    "from CellGraphX.training.optimizer import build_optimizer"
   ]
  },
  {
   "cell_type": "code",
   "execution_count": 5,
   "id": "94e0c9e5",
   "metadata": {},
   "outputs": [
    {
     "name": "stdout",
     "output_type": "stream",
     "text": [
      "Loading configuration...\n",
      "Initializing model...\n"
     ]
    }
   ],
   "source": [
    "# Load configuration\n",
    "print(\"Loading configuration...\", flush=True)\n",
    "\n",
    "config = Config()\n",
    "# Initialize the model\n",
    "print(\"Initializing model...\", flush=True)\n",
    "model = model_builder(config=config.model)"
   ]
  },
  {
   "cell_type": "code",
   "execution_count": 6,
   "id": "2ef5bd04",
   "metadata": {},
   "outputs": [
    {
     "data": {
      "text/plain": [
       "HeteroGNN(\n",
       "  (convs): ModuleList(\n",
       "    (0-1): 2 x HeteroConv(num_relations=4)\n",
       "  )\n",
       "  (lin): Linear(64, 24, bias=True)\n",
       ")"
      ]
     },
     "execution_count": 6,
     "metadata": {},
     "output_type": "execute_result"
    }
   ],
   "source": [
    "model"
   ]
  },
  {
   "cell_type": "code",
   "execution_count": 7,
   "id": "8a4dd33e",
   "metadata": {},
   "outputs": [
    {
     "data": {
      "text/plain": [
       "<CellGraphX.configs.config.Config at 0x7f44b13e7230>"
      ]
     },
     "execution_count": 7,
     "metadata": {},
     "output_type": "execute_result"
    }
   ],
   "source": [
    "config"
   ]
  },
  {
   "cell_type": "code",
   "execution_count": 8,
   "id": "dbd57355",
   "metadata": {},
   "outputs": [
    {
     "data": {
      "text/plain": [
       "<function CellGraphX.data.data_loader.data_loader(config)>"
      ]
     },
     "execution_count": 8,
     "metadata": {},
     "output_type": "execute_result"
    }
   ],
   "source": [
    "data_loader"
   ]
  },
  {
   "cell_type": "code",
   "execution_count": 9,
   "id": "371fa090-01b1-4bb5-83ce-ba4910cf545b",
   "metadata": {},
   "outputs": [
    {
     "name": "stdout",
     "output_type": "stream",
     "text": [
      "Loading data...\n"
     ]
    }
   ],
   "source": [
    "# Prepare the dataset and dataloaders\n",
    "print(\"Loading data...\")"
   ]
  },
  {
   "cell_type": "code",
   "execution_count": 10,
   "id": "67f3f13b-12a8-46e3-95c1-fa707e4f148c",
   "metadata": {},
   "outputs": [
    {
     "name": "stdout",
     "output_type": "stream",
     "text": [
      "Loading data from /nfs/research/irene/ysong/RESULTS/GeneCellType/GeneSpectra/MTG/CellGraphX/CellGraphX/data/mtg_all_sp_wilcox_data_with_og_ct_name.pt ...\n"
     ]
    },
    {
     "name": "stderr",
     "output_type": "stream",
     "text": [
      "/nfs/research/irene/ysong/RESULTS/GeneCellType/GeneSpectra/MTG/CellGraphX/CellGraphX/data/data_loader.py:21: FutureWarning: You are using `torch.load` with `weights_only=False` (the current default value), which uses the default pickle module implicitly. It is possible to construct malicious pickle data which will execute arbitrary code during unpickling (See https://github.com/pytorch/pytorch/blob/main/SECURITY.md#untrusted-models for more details). In a future release, the default value for `weights_only` will be flipped to `True`. This limits the functions that could be executed during unpickling. Arbitrary objects will no longer be allowed to be loaded via this mode unless they are explicitly allowlisted by the user via `torch.serialization.add_safe_globals`. We recommend you start setting `weights_only=True` for any use case where you don't have full control of the loaded file. Please open an issue on GitHub for any issues related to this experimental feature.\n",
      "  data = torch.load(data_path)\n"
     ]
    },
    {
     "name": "stdout",
     "output_type": "stream",
     "text": [
      "Split train val and test species\n",
      "This is the HeteroData you are working with:\n",
      "HeteroData(\n",
      "  species_origin_index={\n",
      "    0='H.sapiens',\n",
      "    1='H.sapiens',\n",
      "    2='H.sapiens',\n",
      "    3='H.sapiens',\n",
      "    4='H.sapiens',\n",
      "    5='H.sapiens',\n",
      "    6='H.sapiens',\n",
      "    7='H.sapiens',\n",
      "    8='H.sapiens',\n",
      "    9='H.sapiens',\n",
      "    10='H.sapiens',\n",
      "    11='H.sapiens',\n",
      "    12='H.sapiens',\n",
      "    13='H.sapiens',\n",
      "    14='H.sapiens',\n",
      "    15='H.sapiens',\n",
      "    16='H.sapiens',\n",
      "    17='H.sapiens',\n",
      "    18='H.sapiens',\n",
      "    19='H.sapiens',\n",
      "    20='H.sapiens',\n",
      "    21='H.sapiens',\n",
      "    22='H.sapiens',\n",
      "    23='H.sapiens',\n",
      "    24='M.mulatta',\n",
      "    25='M.mulatta',\n",
      "    26='M.mulatta',\n",
      "    27='M.mulatta',\n",
      "    28='M.mulatta',\n",
      "    29='M.mulatta',\n",
      "    30='M.mulatta',\n",
      "    31='M.mulatta',\n",
      "    32='M.mulatta',\n",
      "    33='M.mulatta',\n",
      "    34='M.mulatta',\n",
      "    35='M.mulatta',\n",
      "    36='M.mulatta',\n",
      "    37='M.mulatta',\n",
      "    38='M.mulatta',\n",
      "    39='M.mulatta',\n",
      "    40='M.mulatta',\n",
      "    41='M.mulatta',\n",
      "    42='M.mulatta',\n",
      "    43='M.mulatta',\n",
      "    44='M.mulatta',\n",
      "    45='M.mulatta',\n",
      "    46='M.mulatta',\n",
      "    47='M.mulatta',\n",
      "    48='C.jacchus',\n",
      "    49='C.jacchus',\n",
      "    50='C.jacchus',\n",
      "    51='C.jacchus',\n",
      "    52='C.jacchus',\n",
      "    53='C.jacchus',\n",
      "    54='C.jacchus',\n",
      "    55='C.jacchus',\n",
      "    56='C.jacchus',\n",
      "    57='C.jacchus',\n",
      "    58='C.jacchus',\n",
      "    59='C.jacchus',\n",
      "    60='C.jacchus',\n",
      "    61='C.jacchus',\n",
      "    62='C.jacchus',\n",
      "    63='C.jacchus',\n",
      "    64='C.jacchus',\n",
      "    65='C.jacchus',\n",
      "    66='C.jacchus',\n",
      "    67='C.jacchus',\n",
      "    68='C.jacchus',\n",
      "    69='C.jacchus',\n",
      "    70='C.jacchus',\n",
      "    71='C.jacchus',\n",
      "    72='P.troglodytes',\n",
      "    73='P.troglodytes',\n",
      "    74='P.troglodytes',\n",
      "    75='P.troglodytes',\n",
      "    76='P.troglodytes',\n",
      "    77='P.troglodytes',\n",
      "    78='P.troglodytes',\n",
      "    79='P.troglodytes',\n",
      "    80='P.troglodytes',\n",
      "    81='P.troglodytes',\n",
      "    82='P.troglodytes',\n",
      "    83='P.troglodytes',\n",
      "    84='P.troglodytes',\n",
      "    85='P.troglodytes',\n",
      "    86='P.troglodytes',\n",
      "    87='P.troglodytes',\n",
      "    88='P.troglodytes',\n",
      "    89='P.troglodytes',\n",
      "    90='P.troglodytes',\n",
      "    91='P.troglodytes',\n",
      "    92='P.troglodytes',\n",
      "    93='P.troglodytes',\n",
      "    94='P.troglodytes',\n",
      "    95='P.troglodytes',\n",
      "    96='G.gorilla',\n",
      "    97='G.gorilla',\n",
      "    98='G.gorilla',\n",
      "    99='G.gorilla',\n",
      "    100='G.gorilla',\n",
      "    101='G.gorilla',\n",
      "    102='G.gorilla',\n",
      "    103='G.gorilla',\n",
      "    104='G.gorilla',\n",
      "    105='G.gorilla',\n",
      "    106='G.gorilla',\n",
      "    107='G.gorilla',\n",
      "    108='G.gorilla',\n",
      "    109='G.gorilla',\n",
      "    110='G.gorilla',\n",
      "    111='G.gorilla',\n",
      "    112='G.gorilla',\n",
      "    113='G.gorilla',\n",
      "    114='G.gorilla',\n",
      "    115='G.gorilla',\n",
      "    116='G.gorilla',\n",
      "    117='G.gorilla',\n",
      "    118='G.gorilla',\n",
      "    119='G.gorilla',\n",
      "  },\n",
      "  cell_type_index_mapping={\n",
      "    Astro=0,\n",
      "    Chandelier=1,\n",
      "    Endo=2,\n",
      "    L2-3 IT=3,\n",
      "    L4 IT=4,\n",
      "    L5 ET=5,\n",
      "    L5 IT=6,\n",
      "    L5-6 NP=7,\n",
      "    L6 CT=8,\n",
      "    L6 IT=9,\n",
      "    L6 IT Car3=10,\n",
      "    L6b=11,\n",
      "    Lamp5=12,\n",
      "    Lamp5_Lhx6=13,\n",
      "    Micro-PVM=14,\n",
      "    OPC=15,\n",
      "    Oligo=16,\n",
      "    Pax6=17,\n",
      "    Pvalb=18,\n",
      "    Sncg=19,\n",
      "    Sst=20,\n",
      "    Sst Chodl=21,\n",
      "    VLMC=22,\n",
      "    Vip=23,\n",
      "  },\n",
      "  test_species='G.gorilla',\n",
      "  val_species='M.mulatta',\n",
      "  cell_type={\n",
      "    x=[120, 120],\n",
      "    y=[120],\n",
      "    train_mask=[120],\n",
      "    val_mask=[120],\n",
      "    test_mask=[120],\n",
      "  },\n",
      "  gene={ x=[92549, 29954] },\n",
      "  orthologous_group={ x=[14948, 14948] },\n",
      "  (gene, is_wilcox_marker_of, cell_type)={\n",
      "    edge_index=[2, 17520],\n",
      "    edge_weights=[17520],\n",
      "  },\n",
      "  (cell_type, rev_is_wilcox_marker_of, gene)={\n",
      "    edge_index=[2, 17520],\n",
      "    edge_weights=[17520],\n",
      "  },\n",
      "  (gene, is_in, orthologous_group)={ edge_index=[2, 49548] },\n",
      "  (orthologous_group, rev_is_in, gene)={ edge_index=[2, 49548] }\n",
      ")\n"
     ]
    }
   ],
   "source": [
    "data = data_loader(config=config.data)"
   ]
  },
  {
   "cell_type": "code",
   "execution_count": 11,
   "id": "24c84e69",
   "metadata": {},
   "outputs": [
    {
     "data": {
      "text/plain": [
       "tensor([False, False, False, False, False, False, False, False, False, False,\n",
       "        False, False, False, False, False, False, False, False, False, False,\n",
       "        False, False, False, False,  True,  True,  True,  True,  True,  True,\n",
       "         True,  True,  True,  True,  True,  True,  True,  True,  True,  True,\n",
       "         True,  True,  True,  True,  True,  True,  True,  True, False, False,\n",
       "        False, False, False, False, False, False, False, False, False, False,\n",
       "        False, False, False, False, False, False, False, False, False, False,\n",
       "        False, False, False, False, False, False, False, False, False, False,\n",
       "        False, False, False, False, False, False, False, False, False, False,\n",
       "        False, False, False, False, False, False, False, False, False, False,\n",
       "        False, False, False, False, False, False, False, False, False, False,\n",
       "        False, False, False, False, False, False, False, False, False, False])"
      ]
     },
     "execution_count": 11,
     "metadata": {},
     "output_type": "execute_result"
    }
   ],
   "source": [
    "data['cell_type'].val_mask"
   ]
  },
  {
   "cell_type": "code",
   "execution_count": 12,
   "id": "066bd586",
   "metadata": {},
   "outputs": [],
   "source": [
    "edge_weight_dict = edge_weight_dict_loader(data) if config.model.edge_weight else None\n",
    "\n",
    "# Optimizer and learning rate scheduler\n",
    "optimizer = build_optimizer(model, config.training)\n",
    "\n",
    "# Scheduler (optional, for learning rate decay)\n",
    "scheduler = optim.lr_scheduler.StepLR(optimizer, step_size=10, gamma=0.1)\n",
    "# Initialize the trainer with the model, data, optimizer, and config"
   ]
  },
  {
   "cell_type": "code",
   "execution_count": 13,
   "id": "da960bd2",
   "metadata": {},
   "outputs": [
    {
     "data": {
      "text/plain": [
       "{('gene',\n",
       "  'is_wilcox_marker_of',\n",
       "  'cell_type'): tensor([4.0142, 4.0404, 4.0512,  ..., 6.7956, 7.1142, 7.1893]),\n",
       " ('cell_type',\n",
       "  'rev_is_wilcox_marker_of',\n",
       "  'gene'): tensor([4.0142, 4.0404, 4.0512,  ..., 6.7956, 7.1142, 7.1893])}"
      ]
     },
     "execution_count": 13,
     "metadata": {},
     "output_type": "execute_result"
    }
   ],
   "source": [
    "edge_weight_dict"
   ]
  },
  {
   "cell_type": "code",
   "execution_count": 14,
   "id": "f5c8d69f-2b3d-4e52-ba24-db8cc90b5c8a",
   "metadata": {},
   "outputs": [
    {
     "data": {
      "text/plain": [
       "Adam (\n",
       "Parameter Group 0\n",
       "    amsgrad: False\n",
       "    betas: (0.9, 0.999)\n",
       "    capturable: False\n",
       "    differentiable: False\n",
       "    eps: 1e-08\n",
       "    foreach: None\n",
       "    fused: None\n",
       "    initial_lr: 0.001\n",
       "    lr: 0.001\n",
       "    maximize: False\n",
       "    weight_decay: 1e-05\n",
       ")"
      ]
     },
     "execution_count": 14,
     "metadata": {},
     "output_type": "execute_result"
    }
   ],
   "source": [
    "optimizer"
   ]
  },
  {
   "cell_type": "code",
   "execution_count": 15,
   "id": "078c2e2b-4719-4ac9-ac83-98b81ac0179e",
   "metadata": {},
   "outputs": [
    {
     "data": {
      "text/plain": [
       "<torch.optim.lr_scheduler.StepLR at 0x7f44b18ba7e0>"
      ]
     },
     "execution_count": 15,
     "metadata": {},
     "output_type": "execute_result"
    }
   ],
   "source": [
    "scheduler"
   ]
  },
  {
   "cell_type": "code",
   "execution_count": 16,
   "id": "35a35f66-4935-44ea-a129-c0bcae2b51d7",
   "metadata": {},
   "outputs": [
    {
     "name": "stdout",
     "output_type": "stream",
     "text": [
      "Initializing trainer...\n"
     ]
    }
   ],
   "source": [
    "print(\"Initializing trainer...\", flush=True)\n",
    "trainer = Trainer(\n",
    "    model=model,\n",
    "    data=data,\n",
    "    scheduler=scheduler,\n",
    "    config=config,\n",
    "    edge_weight_dict=edge_weight_dict,\n",
    "    # optimizer, loss func, logdir build from config\n",
    ")"
   ]
  },
  {
   "cell_type": "code",
   "execution_count": 17,
   "id": "6d5ad4e2-99fa-4947-8777-272eccce5052",
   "metadata": {},
   "outputs": [
    {
     "data": {
      "text/plain": [
       "<CellGraphX.training.trainer.Trainer at 0x7f45a675b290>"
      ]
     },
     "execution_count": 17,
     "metadata": {},
     "output_type": "execute_result"
    }
   ],
   "source": [
    "trainer"
   ]
  },
  {
   "cell_type": "code",
   "execution_count": null,
   "id": "d6be9876-cfca-48da-9c8c-655a784dbcba",
   "metadata": {},
   "outputs": [
    {
     "name": "stdout",
     "output_type": "stream",
     "text": [
      "Starting training...\n"
     ]
    },
    {
     "name": "stderr",
     "output_type": "stream",
     "text": [
      "2025-08-27 14:26:45,328 - INFO - Epoch 1/10\n",
      "/nfs/research/icortes/ysong/anaconda3/envs/pyg_gpu/lib/python3.12/site-packages/torch/optim/lr_scheduler.py:224: UserWarning: Detected call of `lr_scheduler.step()` before `optimizer.step()`. In PyTorch 1.1.0 and later, you should call them in the opposite order: `optimizer.step()` before `lr_scheduler.step()`.  Failure to do this will result in PyTorch skipping the first value of the learning rate schedule. See more details at https://pytorch.org/docs/stable/optim.html#how-to-adjust-learning-rate\n",
      "  warnings.warn(\n",
      "2025-08-27 14:27:28,208 - INFO - Train Loss: 118.9376 | Train Acc: 0.0417 | Val Acc: 0.0417 | Test Acc: 0.0417\n",
      "2025-08-27 14:27:28,738 - INFO - Checkpoint saved to ./logs/best.pt\n",
      "2025-08-27 14:27:29,253 - INFO - Checkpoint saved to ./logs/latest.pt\n",
      "2025-08-27 14:27:29,255 - INFO - Epoch 2/10\n",
      "2025-08-27 14:28:11,654 - INFO - Train Loss: 62.0057 | Train Acc: 0.0833 | Val Acc: 0.0417 | Test Acc: 0.0417\n",
      "2025-08-27 14:28:12,124 - INFO - Checkpoint saved to ./logs/latest.pt\n",
      "2025-08-27 14:28:12,126 - INFO - Epoch 3/10\n",
      "2025-08-27 14:28:54,666 - INFO - Train Loss: 41.9153 | Train Acc: 0.1111 | Val Acc: 0.0417 | Test Acc: 0.0833\n",
      "2025-08-27 14:28:55,185 - INFO - Checkpoint saved to ./logs/latest.pt\n",
      "2025-08-27 14:28:55,186 - INFO - Epoch 4/10\n",
      "2025-08-27 14:29:38,252 - INFO - Train Loss: 29.0866 | Train Acc: 0.2083 | Val Acc: 0.1667 | Test Acc: 0.1250\n",
      "2025-08-27 14:29:38,733 - INFO - Checkpoint saved to ./logs/best.pt\n",
      "2025-08-27 14:29:39,246 - INFO - Checkpoint saved to ./logs/latest.pt\n",
      "2025-08-27 14:29:39,247 - INFO - Epoch 5/10\n",
      "2025-08-27 14:30:21,882 - INFO - Train Loss: 21.3688 | Train Acc: 0.2500 | Val Acc: 0.1250 | Test Acc: 0.1250\n",
      "2025-08-27 14:30:22,347 - INFO - Checkpoint saved to ./logs/latest.pt\n",
      "2025-08-27 14:30:22,349 - INFO - Epoch 6/10\n",
      "2025-08-27 14:31:29,373 - INFO - Train Loss: 17.3848 | Train Acc: 0.1944 | Val Acc: 0.1667 | Test Acc: 0.1667\n",
      "2025-08-27 14:31:29,972 - INFO - Checkpoint saved to ./logs/latest.pt\n",
      "2025-08-27 14:31:29,974 - INFO - Epoch 7/10\n",
      "2025-08-27 14:32:54,460 - INFO - Train Loss: 12.7969 | Train Acc: 0.1667 | Val Acc: 0.1667 | Test Acc: 0.1667\n",
      "2025-08-27 14:32:55,053 - INFO - Checkpoint saved to ./logs/latest.pt\n",
      "2025-08-27 14:32:55,054 - INFO - Epoch 8/10\n",
      "2025-08-27 14:34:20,553 - INFO - Train Loss: 9.0635 | Train Acc: 0.2917 | Val Acc: 0.2083 | Test Acc: 0.1250\n",
      "2025-08-27 14:34:21,192 - INFO - Checkpoint saved to ./logs/best.pt\n",
      "2025-08-27 14:34:21,784 - INFO - Checkpoint saved to ./logs/latest.pt\n",
      "2025-08-27 14:34:21,785 - INFO - Epoch 9/10\n",
      "2025-08-27 14:35:45,627 - INFO - Train Loss: 5.4507 | Train Acc: 0.2083 | Val Acc: 0.1250 | Test Acc: 0.1667\n",
      "2025-08-27 14:35:46,207 - INFO - Checkpoint saved to ./logs/latest.pt\n",
      "2025-08-27 14:35:46,209 - INFO - Epoch 10/10\n"
     ]
    }
   ],
   "source": [
    "# Start the training\n",
    "print(\"Starting training...\", flush=True)\n",
    "trainer.train(epochs=config.training.num_epochs)\n",
    "\n",
    "print(\"Training completed with model saved.\", flush=True)"
   ]
  },
  {
   "cell_type": "code",
   "execution_count": null,
   "id": "baf846ea-b766-4c04-9542-f676f2e9380b",
   "metadata": {},
   "outputs": [],
   "source": [
    "# t-SNE visualization\n",
    "vis = TSNE_vis(model_path=f\"{trainer.log_dir}/best.pt\", data=data)"
   ]
  },
  {
   "cell_type": "code",
   "execution_count": null,
   "id": "d91349e0-61a3-4bec-bb3a-519a49060b2c",
   "metadata": {},
   "outputs": [],
   "source": [
    "vis.model_path"
   ]
  },
  {
   "cell_type": "code",
   "execution_count": null,
   "id": "3ce9063c-8581-4232-a441-5ad7f130f65f",
   "metadata": {},
   "outputs": [],
   "source": [
    "config = Config()\n",
    "print(\"Initializing model...\", flush=True)\n",
    "model = model_builder(config=config.model)"
   ]
  },
  {
   "cell_type": "code",
   "execution_count": null,
   "id": "0be397e5-4d18-48dc-aa8e-c32fe9ebbb80",
   "metadata": {},
   "outputs": [],
   "source": [
    "model"
   ]
  },
  {
   "cell_type": "code",
   "execution_count": null,
   "id": "2ec194a5-51bf-4001-ab1e-dbb31c5e7ab4",
   "metadata": {},
   "outputs": [],
   "source": [
    "print(\"Loading trainned model state dict...\", flush=True)\n",
    "if osp.isfile(vis.model_path):\n",
    "    print(f\"Loading model from {vis.model_path}\")\n",
    "else:\n",
    "    raise FileNotFoundError(f\"No model file found at {vis.model_path}\")"
   ]
  },
  {
   "cell_type": "code",
   "execution_count": null,
   "id": "63f23814-705b-4b48-9d0f-f1ba284d7db1",
   "metadata": {},
   "outputs": [],
   "source": [
    "model.load_state_dict(\n",
    "    torch.load(vis.model_path, map_location=torch.device(\"cpu\"))[\"model_state_dict\"]\n",
    ")"
   ]
  },
  {
   "cell_type": "code",
   "execution_count": null,
   "id": "84b1a60b-d633-4b0f-8687-d4ac4e1befc4",
   "metadata": {},
   "outputs": [],
   "source": [
    "model.convs[0].parameters()"
   ]
  },
  {
   "cell_type": "code",
   "execution_count": null,
   "id": "0ac170fb-8dde-4dc1-b818-edc0f2ebb019",
   "metadata": {},
   "outputs": [],
   "source": [
    "vis.plot_tsne(\n",
    "        vis.get_tsne_embed(vis.load_model()),\n",
    "        out_path=f\"{trainer.log_dir}/tsne_plot.png\",\n",
    "    )"
   ]
  },
  {
   "cell_type": "code",
   "execution_count": null,
   "id": "9fcd9629-1296-4ba7-8272-4e94b2001201",
   "metadata": {},
   "outputs": [],
   "source": []
  }
 ],
 "metadata": {
  "kernelspec": {
   "display_name": "PyG_GPU",
   "language": "python",
   "name": "pyg_gpu"
  },
  "language_info": {
   "codemirror_mode": {
    "name": "ipython",
    "version": 3
   },
   "file_extension": ".py",
   "mimetype": "text/x-python",
   "name": "python",
   "nbconvert_exporter": "python",
   "pygments_lexer": "ipython3",
   "version": "3.12.7"
  }
 },
 "nbformat": 4,
 "nbformat_minor": 5
}
