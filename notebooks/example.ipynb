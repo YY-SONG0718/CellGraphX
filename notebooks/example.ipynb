{
 "cells": [
  {
   "cell_type": "code",
   "execution_count": 1,
   "id": "3e64de03",
   "metadata": {},
   "outputs": [],
   "source": [
    "import os\n",
    "import sys\n",
    "\n",
    "import torch\n",
    "import torch.optim as optim\n",
    "import os.path as osp\n",
    "\n",
    "sys.path.append(os.path.abspath(\"..\"))"
   ]
  },
  {
   "cell_type": "code",
   "execution_count": 2,
   "id": "53a0d8f8",
   "metadata": {},
   "outputs": [],
   "source": [
    "from CellGraphX.configs.config import Config"
   ]
  },
  {
   "cell_type": "code",
   "execution_count": 3,
   "id": "704d50d4",
   "metadata": {},
   "outputs": [],
   "source": [
    "from CellGraphX.training.trainer import Trainer"
   ]
  },
  {
   "cell_type": "code",
   "execution_count": 4,
   "id": "099f0ebf",
   "metadata": {},
   "outputs": [
    {
     "name": "stderr",
     "output_type": "stream",
     "text": [
      "/nfs/research/icortes/ysong/anaconda3/envs/pyg_gpu/lib/python3.12/site-packages/sklearn/utils/_param_validation.py:14: UserWarning: A NumPy version >=1.23.5 and <2.3.0 is required for this version of SciPy (detected version 2.3.1)\n",
      "  from scipy.sparse import csr_matrix, issparse\n"
     ]
    }
   ],
   "source": [
    "from CellGraphX.configs.config import Config\n",
    "from CellGraphX.data.data_loader import data_loader, edge_weight_dict_loader\n",
    "from CellGraphX.evaluation.tsne_vis import TSNE_vis\n",
    "from CellGraphX.models.model import model_builder\n",
    "from CellGraphX.training.optimizer import build_optimizer"
   ]
  },
  {
   "cell_type": "code",
   "execution_count": 5,
   "id": "94e0c9e5",
   "metadata": {},
   "outputs": [
    {
     "name": "stdout",
     "output_type": "stream",
     "text": [
      "Loading configuration...\n",
      "Initializing model...\n"
     ]
    }
   ],
   "source": [
    "# Load configuration\n",
    "print(\"Loading configuration...\", flush=True)\n",
    "\n",
    "config = Config()\n",
    "# Initialize the model\n",
    "print(\"Initializing model...\", flush=True)\n",
    "model = model_builder(config=config.model)"
   ]
  },
  {
   "cell_type": "code",
   "execution_count": 6,
   "id": "2ef5bd04",
   "metadata": {},
   "outputs": [
    {
     "data": {
      "text/plain": [
       "HeteroGNN(\n",
       "  (convs): ModuleList(\n",
       "    (0-1): 2 x HeteroConv(num_relations=4)\n",
       "  )\n",
       "  (lin): Linear(64, 24, bias=True)\n",
       ")"
      ]
     },
     "execution_count": 6,
     "metadata": {},
     "output_type": "execute_result"
    }
   ],
   "source": [
    "model"
   ]
  },
  {
   "cell_type": "code",
   "execution_count": 7,
   "id": "8a4dd33e",
   "metadata": {},
   "outputs": [
    {
     "data": {
      "text/plain": [
       "<CellGraphX.configs.config.Config at 0x7f5269deb7d0>"
      ]
     },
     "execution_count": 7,
     "metadata": {},
     "output_type": "execute_result"
    }
   ],
   "source": [
    "config"
   ]
  },
  {
   "cell_type": "code",
   "execution_count": 8,
   "id": "dbd57355",
   "metadata": {},
   "outputs": [
    {
     "data": {
      "text/plain": [
       "<function CellGraphX.data.data_loader.data_loader(config)>"
      ]
     },
     "execution_count": 8,
     "metadata": {},
     "output_type": "execute_result"
    }
   ],
   "source": [
    "data_loader"
   ]
  },
  {
   "cell_type": "code",
   "execution_count": 9,
   "id": "371fa090-01b1-4bb5-83ce-ba4910cf545b",
   "metadata": {},
   "outputs": [
    {
     "name": "stdout",
     "output_type": "stream",
     "text": [
      "Loading data...\n"
     ]
    }
   ],
   "source": [
    "# Prepare the dataset and dataloaders\n",
    "print(\"Loading data...\")"
   ]
  },
  {
   "cell_type": "code",
   "execution_count": 10,
   "id": "67f3f13b-12a8-46e3-95c1-fa707e4f148c",
   "metadata": {},
   "outputs": [
    {
     "name": "stdout",
     "output_type": "stream",
     "text": [
      "Loading data from /nfs/research/irene/ysong/RESULTS/GeneCellType/GeneSpectra/MTG/CellGraphX/CellGraphX/data/mtg_all_sp_wilcox_data_with_og_ct_name.pt ...\n"
     ]
    },
    {
     "name": "stderr",
     "output_type": "stream",
     "text": [
      "/nfs/research/irene/ysong/RESULTS/GeneCellType/GeneSpectra/MTG/CellGraphX/CellGraphX/data/data_loader.py:21: FutureWarning: You are using `torch.load` with `weights_only=False` (the current default value), which uses the default pickle module implicitly. It is possible to construct malicious pickle data which will execute arbitrary code during unpickling (See https://github.com/pytorch/pytorch/blob/main/SECURITY.md#untrusted-models for more details). In a future release, the default value for `weights_only` will be flipped to `True`. This limits the functions that could be executed during unpickling. Arbitrary objects will no longer be allowed to be loaded via this mode unless they are explicitly allowlisted by the user via `torch.serialization.add_safe_globals`. We recommend you start setting `weights_only=True` for any use case where you don't have full control of the loaded file. Please open an issue on GitHub for any issues related to this experimental feature.\n",
      "  data = torch.load(data_path)\n"
     ]
    },
    {
     "name": "stdout",
     "output_type": "stream",
     "text": [
      "Split train val and test species\n",
      "This is the HeteroData you are working with:\n",
      "HeteroData(\n",
      "  species_origin_index={\n",
      "    0='H.sapiens',\n",
      "    1='H.sapiens',\n",
      "    2='H.sapiens',\n",
      "    3='H.sapiens',\n",
      "    4='H.sapiens',\n",
      "    5='H.sapiens',\n",
      "    6='H.sapiens',\n",
      "    7='H.sapiens',\n",
      "    8='H.sapiens',\n",
      "    9='H.sapiens',\n",
      "    10='H.sapiens',\n",
      "    11='H.sapiens',\n",
      "    12='H.sapiens',\n",
      "    13='H.sapiens',\n",
      "    14='H.sapiens',\n",
      "    15='H.sapiens',\n",
      "    16='H.sapiens',\n",
      "    17='H.sapiens',\n",
      "    18='H.sapiens',\n",
      "    19='H.sapiens',\n",
      "    20='H.sapiens',\n",
      "    21='H.sapiens',\n",
      "    22='H.sapiens',\n",
      "    23='H.sapiens',\n",
      "    24='M.mulatta',\n",
      "    25='M.mulatta',\n",
      "    26='M.mulatta',\n",
      "    27='M.mulatta',\n",
      "    28='M.mulatta',\n",
      "    29='M.mulatta',\n",
      "    30='M.mulatta',\n",
      "    31='M.mulatta',\n",
      "    32='M.mulatta',\n",
      "    33='M.mulatta',\n",
      "    34='M.mulatta',\n",
      "    35='M.mulatta',\n",
      "    36='M.mulatta',\n",
      "    37='M.mulatta',\n",
      "    38='M.mulatta',\n",
      "    39='M.mulatta',\n",
      "    40='M.mulatta',\n",
      "    41='M.mulatta',\n",
      "    42='M.mulatta',\n",
      "    43='M.mulatta',\n",
      "    44='M.mulatta',\n",
      "    45='M.mulatta',\n",
      "    46='M.mulatta',\n",
      "    47='M.mulatta',\n",
      "    48='C.jacchus',\n",
      "    49='C.jacchus',\n",
      "    50='C.jacchus',\n",
      "    51='C.jacchus',\n",
      "    52='C.jacchus',\n",
      "    53='C.jacchus',\n",
      "    54='C.jacchus',\n",
      "    55='C.jacchus',\n",
      "    56='C.jacchus',\n",
      "    57='C.jacchus',\n",
      "    58='C.jacchus',\n",
      "    59='C.jacchus',\n",
      "    60='C.jacchus',\n",
      "    61='C.jacchus',\n",
      "    62='C.jacchus',\n",
      "    63='C.jacchus',\n",
      "    64='C.jacchus',\n",
      "    65='C.jacchus',\n",
      "    66='C.jacchus',\n",
      "    67='C.jacchus',\n",
      "    68='C.jacchus',\n",
      "    69='C.jacchus',\n",
      "    70='C.jacchus',\n",
      "    71='C.jacchus',\n",
      "    72='P.troglodytes',\n",
      "    73='P.troglodytes',\n",
      "    74='P.troglodytes',\n",
      "    75='P.troglodytes',\n",
      "    76='P.troglodytes',\n",
      "    77='P.troglodytes',\n",
      "    78='P.troglodytes',\n",
      "    79='P.troglodytes',\n",
      "    80='P.troglodytes',\n",
      "    81='P.troglodytes',\n",
      "    82='P.troglodytes',\n",
      "    83='P.troglodytes',\n",
      "    84='P.troglodytes',\n",
      "    85='P.troglodytes',\n",
      "    86='P.troglodytes',\n",
      "    87='P.troglodytes',\n",
      "    88='P.troglodytes',\n",
      "    89='P.troglodytes',\n",
      "    90='P.troglodytes',\n",
      "    91='P.troglodytes',\n",
      "    92='P.troglodytes',\n",
      "    93='P.troglodytes',\n",
      "    94='P.troglodytes',\n",
      "    95='P.troglodytes',\n",
      "    96='G.gorilla',\n",
      "    97='G.gorilla',\n",
      "    98='G.gorilla',\n",
      "    99='G.gorilla',\n",
      "    100='G.gorilla',\n",
      "    101='G.gorilla',\n",
      "    102='G.gorilla',\n",
      "    103='G.gorilla',\n",
      "    104='G.gorilla',\n",
      "    105='G.gorilla',\n",
      "    106='G.gorilla',\n",
      "    107='G.gorilla',\n",
      "    108='G.gorilla',\n",
      "    109='G.gorilla',\n",
      "    110='G.gorilla',\n",
      "    111='G.gorilla',\n",
      "    112='G.gorilla',\n",
      "    113='G.gorilla',\n",
      "    114='G.gorilla',\n",
      "    115='G.gorilla',\n",
      "    116='G.gorilla',\n",
      "    117='G.gorilla',\n",
      "    118='G.gorilla',\n",
      "    119='G.gorilla',\n",
      "  },\n",
      "  cell_type_index_mapping={\n",
      "    Astro=0,\n",
      "    Chandelier=1,\n",
      "    Endo=2,\n",
      "    L2-3 IT=3,\n",
      "    L4 IT=4,\n",
      "    L5 ET=5,\n",
      "    L5 IT=6,\n",
      "    L5-6 NP=7,\n",
      "    L6 CT=8,\n",
      "    L6 IT=9,\n",
      "    L6 IT Car3=10,\n",
      "    L6b=11,\n",
      "    Lamp5=12,\n",
      "    Lamp5_Lhx6=13,\n",
      "    Micro-PVM=14,\n",
      "    OPC=15,\n",
      "    Oligo=16,\n",
      "    Pax6=17,\n",
      "    Pvalb=18,\n",
      "    Sncg=19,\n",
      "    Sst=20,\n",
      "    Sst Chodl=21,\n",
      "    VLMC=22,\n",
      "    Vip=23,\n",
      "  },\n",
      "  test_species='G.gorilla',\n",
      "  val_species='M.mulatta',\n",
      "  cell_type={\n",
      "    x=[120, 120],\n",
      "    y=[120],\n",
      "    train_mask=[120],\n",
      "    val_mask=[120],\n",
      "    test_mask=[120],\n",
      "  },\n",
      "  gene={ x=[92549, 29954] },\n",
      "  orthologous_group={ x=[14948, 14948] },\n",
      "  (gene, is_wilcox_marker_of, cell_type)={\n",
      "    edge_index=[2, 17520],\n",
      "    edge_weights=[17520],\n",
      "  },\n",
      "  (cell_type, rev_is_wilcox_marker_of, gene)={\n",
      "    edge_index=[2, 17520],\n",
      "    edge_weights=[17520],\n",
      "  },\n",
      "  (gene, is_in, orthologous_group)={ edge_index=[2, 49548] },\n",
      "  (orthologous_group, rev_is_in, gene)={ edge_index=[2, 49548] }\n",
      ")\n"
     ]
    }
   ],
   "source": [
    "data = data_loader(config=config.data)"
   ]
  },
  {
   "cell_type": "code",
   "execution_count": 11,
   "id": "24c84e69",
   "metadata": {},
   "outputs": [
    {
     "data": {
      "text/plain": [
       "tensor([False, False, False, False, False, False, False, False, False, False,\n",
       "        False, False, False, False, False, False, False, False, False, False,\n",
       "        False, False, False, False,  True,  True,  True,  True,  True,  True,\n",
       "         True,  True,  True,  True,  True,  True,  True,  True,  True,  True,\n",
       "         True,  True,  True,  True,  True,  True,  True,  True, False, False,\n",
       "        False, False, False, False, False, False, False, False, False, False,\n",
       "        False, False, False, False, False, False, False, False, False, False,\n",
       "        False, False, False, False, False, False, False, False, False, False,\n",
       "        False, False, False, False, False, False, False, False, False, False,\n",
       "        False, False, False, False, False, False, False, False, False, False,\n",
       "        False, False, False, False, False, False, False, False, False, False,\n",
       "        False, False, False, False, False, False, False, False, False, False])"
      ]
     },
     "execution_count": 11,
     "metadata": {},
     "output_type": "execute_result"
    }
   ],
   "source": [
    "data['cell_type'].val_mask"
   ]
  },
  {
   "cell_type": "code",
   "execution_count": 12,
   "id": "066bd586",
   "metadata": {},
   "outputs": [],
   "source": [
    "edge_weight_dict = edge_weight_dict_loader(data) if config.model.edge_weight else None\n",
    "\n",
    "# Optimizer and learning rate scheduler\n",
    "optimizer = build_optimizer(model, config.training)\n",
    "\n",
    "# Scheduler (optional, for learning rate decay)\n",
    "scheduler = optim.lr_scheduler.StepLR(optimizer, step_size=10, gamma=0.1)\n",
    "# Initialize the trainer with the model, data, optimizer, and config"
   ]
  },
  {
   "cell_type": "code",
   "execution_count": 13,
   "id": "da960bd2",
   "metadata": {},
   "outputs": [
    {
     "data": {
      "text/plain": [
       "{('gene',\n",
       "  'is_wilcox_marker_of',\n",
       "  'cell_type'): tensor([4.0142, 4.0404, 4.0512,  ..., 6.7956, 7.1142, 7.1893]),\n",
       " ('cell_type',\n",
       "  'rev_is_wilcox_marker_of',\n",
       "  'gene'): tensor([4.0142, 4.0404, 4.0512,  ..., 6.7956, 7.1142, 7.1893])}"
      ]
     },
     "execution_count": 13,
     "metadata": {},
     "output_type": "execute_result"
    }
   ],
   "source": [
    "edge_weight_dict"
   ]
  },
  {
   "cell_type": "code",
   "execution_count": 14,
   "id": "f5c8d69f-2b3d-4e52-ba24-db8cc90b5c8a",
   "metadata": {},
   "outputs": [
    {
     "data": {
      "text/plain": [
       "Adam (\n",
       "Parameter Group 0\n",
       "    amsgrad: False\n",
       "    betas: (0.9, 0.999)\n",
       "    capturable: False\n",
       "    differentiable: False\n",
       "    eps: 1e-08\n",
       "    foreach: None\n",
       "    fused: None\n",
       "    initial_lr: 0.001\n",
       "    lr: 0.001\n",
       "    maximize: False\n",
       "    weight_decay: 1e-05\n",
       ")"
      ]
     },
     "execution_count": 14,
     "metadata": {},
     "output_type": "execute_result"
    }
   ],
   "source": [
    "optimizer"
   ]
  },
  {
   "cell_type": "code",
   "execution_count": 15,
   "id": "078c2e2b-4719-4ac9-ac83-98b81ac0179e",
   "metadata": {},
   "outputs": [
    {
     "data": {
      "text/plain": [
       "<torch.optim.lr_scheduler.StepLR at 0x7f5280a27a10>"
      ]
     },
     "execution_count": 15,
     "metadata": {},
     "output_type": "execute_result"
    }
   ],
   "source": [
    "scheduler"
   ]
  },
  {
   "cell_type": "code",
   "execution_count": 16,
   "id": "35a35f66-4935-44ea-a129-c0bcae2b51d7",
   "metadata": {},
   "outputs": [
    {
     "name": "stdout",
     "output_type": "stream",
     "text": [
      "Initializing trainer...\n"
     ]
    }
   ],
   "source": [
    "print(\"Initializing trainer...\", flush=True)\n",
    "trainer = Trainer(\n",
    "    model=model,\n",
    "    data=data,\n",
    "    scheduler=scheduler,\n",
    "    config=config,\n",
    "    edge_weight_dict=edge_weight_dict,\n",
    "    # optimizer, loss func, logdir build from config\n",
    ")"
   ]
  },
  {
   "cell_type": "code",
   "execution_count": 17,
   "id": "6d5ad4e2-99fa-4947-8777-272eccce5052",
   "metadata": {},
   "outputs": [
    {
     "data": {
      "text/plain": [
       "<CellGraphX.training.trainer.Trainer at 0x7f528102f260>"
      ]
     },
     "execution_count": 17,
     "metadata": {},
     "output_type": "execute_result"
    }
   ],
   "source": [
    "trainer"
   ]
  },
  {
   "cell_type": "code",
   "execution_count": 18,
   "id": "d6be9876-cfca-48da-9c8c-655a784dbcba",
   "metadata": {},
   "outputs": [
    {
     "name": "stdout",
     "output_type": "stream",
     "text": [
      "Starting training...\n"
     ]
    },
    {
     "name": "stderr",
     "output_type": "stream",
     "text": [
      "2025-08-27 14:09:32,650 - INFO - Epoch 1/10\n",
      "/nfs/research/icortes/ysong/anaconda3/envs/pyg_gpu/lib/python3.12/site-packages/torch/optim/lr_scheduler.py:224: UserWarning: Detected call of `lr_scheduler.step()` before `optimizer.step()`. In PyTorch 1.1.0 and later, you should call them in the opposite order: `optimizer.step()` before `lr_scheduler.step()`.  Failure to do this will result in PyTorch skipping the first value of the learning rate schedule. See more details at https://pytorch.org/docs/stable/optim.html#how-to-adjust-learning-rate\n",
      "  warnings.warn(\n",
      "2025-08-27 14:10:20,656 - INFO - Train Loss: 118.9376 | Train Acc: 0.0417 | Val Acc: 0.0417 | Test Acc: 0.0417\n",
      "2025-08-27 14:10:21,173 - INFO - Checkpoint saved to ./logs/best.pt\n",
      "2025-08-27 14:10:21,740 - INFO - Checkpoint saved to ./logs/latest.pt\n",
      "2025-08-27 14:10:21,742 - INFO - Epoch 2/10\n",
      "2025-08-27 14:11:12,244 - INFO - Train Loss: 62.0057 | Train Acc: 0.0833 | Val Acc: 0.0417 | Test Acc: 0.0417\n",
      "2025-08-27 14:11:12,715 - INFO - Checkpoint saved to ./logs/latest.pt\n",
      "2025-08-27 14:11:12,717 - INFO - Epoch 3/10\n",
      "2025-08-27 14:11:54,645 - INFO - Train Loss: 41.9153 | Train Acc: 0.1111 | Val Acc: 0.0417 | Test Acc: 0.0833\n",
      "2025-08-27 14:11:55,139 - INFO - Checkpoint saved to ./logs/latest.pt\n",
      "2025-08-27 14:11:55,140 - INFO - Epoch 4/10\n",
      "2025-08-27 14:12:33,592 - INFO - Train Loss: 29.0866 | Train Acc: 0.2083 | Val Acc: 0.1667 | Test Acc: 0.1250\n",
      "2025-08-27 14:12:34,117 - INFO - Checkpoint saved to ./logs/best.pt\n",
      "2025-08-27 14:12:34,567 - INFO - Checkpoint saved to ./logs/latest.pt\n",
      "2025-08-27 14:12:34,569 - INFO - Epoch 5/10\n",
      "2025-08-27 14:14:02,865 - INFO - Train Loss: 21.3688 | Train Acc: 0.2500 | Val Acc: 0.1250 | Test Acc: 0.1250\n",
      "2025-08-27 14:14:03,332 - INFO - Checkpoint saved to ./logs/latest.pt\n",
      "2025-08-27 14:14:03,334 - INFO - Epoch 6/10\n",
      "2025-08-27 14:14:54,968 - INFO - Train Loss: 17.3848 | Train Acc: 0.1944 | Val Acc: 0.1667 | Test Acc: 0.1667\n",
      "2025-08-27 14:14:55,498 - INFO - Checkpoint saved to ./logs/latest.pt\n",
      "2025-08-27 14:14:55,500 - INFO - Epoch 7/10\n",
      "2025-08-27 14:15:38,930 - INFO - Train Loss: 12.7969 | Train Acc: 0.1667 | Val Acc: 0.1667 | Test Acc: 0.1667\n",
      "2025-08-27 14:15:39,422 - INFO - Checkpoint saved to ./logs/latest.pt\n",
      "2025-08-27 14:15:39,423 - INFO - Epoch 8/10\n",
      "2025-08-27 14:17:03,224 - INFO - Train Loss: 9.0635 | Train Acc: 0.2917 | Val Acc: 0.2083 | Test Acc: 0.1250\n",
      "2025-08-27 14:17:03,729 - INFO - Checkpoint saved to ./logs/best.pt\n",
      "2025-08-27 14:17:04,226 - INFO - Checkpoint saved to ./logs/latest.pt\n",
      "2025-08-27 14:17:04,228 - INFO - Epoch 9/10\n",
      "2025-08-27 14:17:56,314 - INFO - Train Loss: 5.4507 | Train Acc: 0.2083 | Val Acc: 0.1250 | Test Acc: 0.1667\n",
      "2025-08-27 14:17:56,883 - INFO - Checkpoint saved to ./logs/latest.pt\n",
      "2025-08-27 14:17:56,885 - INFO - Epoch 10/10\n",
      "2025-08-27 14:19:22,792 - INFO - Train Loss: 4.5847 | Train Acc: 0.2083 | Val Acc: 0.1667 | Test Acc: 0.1667\n",
      "2025-08-27 14:19:23,319 - INFO - Checkpoint saved to ./logs/latest.pt\n"
     ]
    },
    {
     "name": "stdout",
     "output_type": "stream",
     "text": [
      "Training completed with model saved.\n"
     ]
    }
   ],
   "source": [
    "# Start the training\n",
    "print(\"Starting training...\", flush=True)\n",
    "trainer.train(epochs=config.training.num_epochs)\n",
    "\n",
    "print(\"Training completed with model saved.\", flush=True)"
   ]
  },
  {
   "cell_type": "code",
   "execution_count": 19,
   "id": "baf846ea-b766-4c04-9542-f676f2e9380b",
   "metadata": {},
   "outputs": [],
   "source": [
    "# t-SNE visualization\n",
    "vis = TSNE_vis(model_path=f\"{trainer.log_dir}/best.pt\", data=data)"
   ]
  },
  {
   "cell_type": "code",
   "execution_count": 20,
   "id": "d91349e0-61a3-4bec-bb3a-519a49060b2c",
   "metadata": {},
   "outputs": [
    {
     "data": {
      "text/plain": [
       "'./logs/best.pt'"
      ]
     },
     "execution_count": 20,
     "metadata": {},
     "output_type": "execute_result"
    }
   ],
   "source": [
    "vis.model_path"
   ]
  },
  {
   "cell_type": "code",
   "execution_count": 21,
   "id": "3ce9063c-8581-4232-a441-5ad7f130f65f",
   "metadata": {},
   "outputs": [
    {
     "name": "stdout",
     "output_type": "stream",
     "text": [
      "Initializing model...\n"
     ]
    }
   ],
   "source": [
    "config = Config()\n",
    "print(\"Initializing model...\", flush=True)\n",
    "model = model_builder(config=config.model)"
   ]
  },
  {
   "cell_type": "code",
   "execution_count": 22,
   "id": "0be397e5-4d18-48dc-aa8e-c32fe9ebbb80",
   "metadata": {},
   "outputs": [
    {
     "data": {
      "text/plain": [
       "HeteroGNN(\n",
       "  (convs): ModuleList(\n",
       "    (0-1): 2 x HeteroConv(num_relations=4)\n",
       "  )\n",
       "  (lin): Linear(64, 24, bias=True)\n",
       ")"
      ]
     },
     "execution_count": 22,
     "metadata": {},
     "output_type": "execute_result"
    }
   ],
   "source": [
    "model"
   ]
  },
  {
   "cell_type": "code",
   "execution_count": 23,
   "id": "2ec194a5-51bf-4001-ab1e-dbb31c5e7ab4",
   "metadata": {},
   "outputs": [
    {
     "name": "stdout",
     "output_type": "stream",
     "text": [
      "Loading trainned model state dict...\n",
      "Loading model from ./logs/best.pt\n"
     ]
    }
   ],
   "source": [
    "print(\"Loading trainned model state dict...\", flush=True)\n",
    "if osp.isfile(vis.model_path):\n",
    "    print(f\"Loading model from {vis.model_path}\")\n",
    "else:\n",
    "    raise FileNotFoundError(f\"No model file found at {vis.model_path}\")"
   ]
  },
  {
   "cell_type": "code",
   "execution_count": 24,
   "id": "63f23814-705b-4b48-9d0f-f1ba284d7db1",
   "metadata": {},
   "outputs": [
    {
     "name": "stderr",
     "output_type": "stream",
     "text": [
      "/tmp/ipykernel_2029954/319233240.py:2: FutureWarning: You are using `torch.load` with `weights_only=False` (the current default value), which uses the default pickle module implicitly. It is possible to construct malicious pickle data which will execute arbitrary code during unpickling (See https://github.com/pytorch/pytorch/blob/main/SECURITY.md#untrusted-models for more details). In a future release, the default value for `weights_only` will be flipped to `True`. This limits the functions that could be executed during unpickling. Arbitrary objects will no longer be allowed to be loaded via this mode unless they are explicitly allowlisted by the user via `torch.serialization.add_safe_globals`. We recommend you start setting `weights_only=True` for any use case where you don't have full control of the loaded file. Please open an issue on GitHub for any issues related to this experimental feature.\n",
      "  torch.load(vis.model_path, map_location=torch.device(\"cpu\"))[\"model_state_dict\"]\n"
     ]
    },
    {
     "data": {
      "text/plain": [
       "<All keys matched successfully>"
      ]
     },
     "execution_count": 24,
     "metadata": {},
     "output_type": "execute_result"
    }
   ],
   "source": [
    "model.load_state_dict(\n",
    "    torch.load(vis.model_path, map_location=torch.device(\"cpu\"))[\"model_state_dict\"]\n",
    ")"
   ]
  },
  {
   "cell_type": "code",
   "execution_count": 25,
   "id": "84b1a60b-d633-4b0f-8687-d4ac4e1befc4",
   "metadata": {},
   "outputs": [
    {
     "data": {
      "text/plain": [
       "<generator object Module.parameters at 0x7f5269518f20>"
      ]
     },
     "execution_count": 25,
     "metadata": {},
     "output_type": "execute_result"
    }
   ],
   "source": [
    "model.convs[0].parameters()"
   ]
  },
  {
   "cell_type": "code",
   "execution_count": 27,
   "id": "0ac170fb-8dde-4dc1-b818-edc0f2ebb019",
   "metadata": {},
   "outputs": [
    {
     "name": "stdout",
     "output_type": "stream",
     "text": [
      "Initializing model...\n",
      "Loading trainned model state dict...\n",
      "Loading model from ./logs/best.pt\n"
     ]
    },
    {
     "name": "stderr",
     "output_type": "stream",
     "text": [
      "/nfs/research/irene/ysong/RESULTS/GeneCellType/GeneSpectra/MTG/CellGraphX/CellGraphX/evaluation/tsne_vis.py:56: FutureWarning: You are using `torch.load` with `weights_only=False` (the current default value), which uses the default pickle module implicitly. It is possible to construct malicious pickle data which will execute arbitrary code during unpickling (See https://github.com/pytorch/pytorch/blob/main/SECURITY.md#untrusted-models for more details). In a future release, the default value for `weights_only` will be flipped to `True`. This limits the functions that could be executed during unpickling. Arbitrary objects will no longer be allowed to be loaded via this mode unless they are explicitly allowlisted by the user via `torch.serialization.add_safe_globals`. We recommend you start setting `weights_only=True` for any use case where you don't have full control of the loaded file. Please open an issue on GitHub for any issues related to this experimental feature.\n",
      "  torch.load(self.model_path, map_location=torch.device(\"cpu\"))[\n"
     ]
    },
    {
     "name": "stdout",
     "output_type": "stream",
     "text": [
      "Performing t-SNE ...\n",
      "Prepare species labels as shapes ...\n",
      "Prepare cell type labels as colors ...\n",
      "plotting ...\n"
     ]
    },
    {
     "ename": "FileNotFoundError",
     "evalue": "[Errno 2] No such file or directory: '/nfs/research/irene/ysong/RESULTS/GeneCellType/GeneSpectra/MTG/CellGraphX/notebooks/logs/tsne_plot.png/tsne_plot_embed_5_species_ct_name_graphconv.png'",
     "output_type": "error",
     "traceback": [
      "\u001b[0;31m---------------------------------------------------------------------------\u001b[0m",
      "\u001b[0;31mFileNotFoundError\u001b[0m                         Traceback (most recent call last)",
      "Cell \u001b[0;32mIn[27], line 1\u001b[0m\n\u001b[0;32m----> 1\u001b[0m \u001b[43mvis\u001b[49m\u001b[38;5;241;43m.\u001b[39;49m\u001b[43mplot_tsne\u001b[49m\u001b[43m(\u001b[49m\n\u001b[1;32m      2\u001b[0m \u001b[43m        \u001b[49m\u001b[43mvis\u001b[49m\u001b[38;5;241;43m.\u001b[39;49m\u001b[43mget_tsne_embed\u001b[49m\u001b[43m(\u001b[49m\u001b[43mvis\u001b[49m\u001b[38;5;241;43m.\u001b[39;49m\u001b[43mload_model\u001b[49m\u001b[43m(\u001b[49m\u001b[43m)\u001b[49m\u001b[43m)\u001b[49m\u001b[43m,\u001b[49m\n\u001b[1;32m      3\u001b[0m \u001b[43m        \u001b[49m\u001b[43mout_path\u001b[49m\u001b[38;5;241;43m=\u001b[39;49m\u001b[38;5;124;43mf\u001b[39;49m\u001b[38;5;124;43m\"\u001b[39;49m\u001b[38;5;132;43;01m{\u001b[39;49;00m\u001b[43mtrainer\u001b[49m\u001b[38;5;241;43m.\u001b[39;49m\u001b[43mlog_dir\u001b[49m\u001b[38;5;132;43;01m}\u001b[39;49;00m\u001b[38;5;124;43m/tsne_plot.png\u001b[39;49m\u001b[38;5;124;43m\"\u001b[39;49m\u001b[43m,\u001b[49m\n\u001b[1;32m      4\u001b[0m \u001b[43m    \u001b[49m\u001b[43m)\u001b[49m\n",
      "File \u001b[0;32m/nfs/research/irene/ysong/RESULTS/GeneCellType/GeneSpectra/MTG/CellGraphX/CellGraphX/evaluation/tsne_vis.py:184\u001b[0m, in \u001b[0;36mTSNE_vis.plot_tsne\u001b[0;34m(self, tsne, out_path)\u001b[0m\n\u001b[1;32m    181\u001b[0m plt\u001b[38;5;241m.\u001b[39mylabel(\u001b[38;5;124m\"\u001b[39m\u001b[38;5;124mt-SNE 2\u001b[39m\u001b[38;5;124m\"\u001b[39m)\n\u001b[1;32m    183\u001b[0m plt\u001b[38;5;241m.\u001b[39mtight_layout()\n\u001b[0;32m--> 184\u001b[0m \u001b[43mplt\u001b[49m\u001b[38;5;241;43m.\u001b[39;49m\u001b[43msavefig\u001b[49m\u001b[43m(\u001b[49m\n\u001b[1;32m    185\u001b[0m \u001b[43m    \u001b[49m\u001b[38;5;124;43mf\u001b[39;49m\u001b[38;5;124;43m\"\u001b[39;49m\u001b[38;5;132;43;01m{\u001b[39;49;00m\u001b[43mout_path\u001b[49m\u001b[38;5;132;43;01m}\u001b[39;49;00m\u001b[38;5;124;43m/tsne_plot_embed_5_species_ct_name_graphconv.png\u001b[39;49m\u001b[38;5;124;43m\"\u001b[39;49m\u001b[43m,\u001b[49m\n\u001b[1;32m    186\u001b[0m \u001b[43m    \u001b[49m\u001b[43mdpi\u001b[49m\u001b[38;5;241;43m=\u001b[39;49m\u001b[38;5;241;43m300\u001b[39;49m\u001b[43m,\u001b[49m\n\u001b[1;32m    187\u001b[0m \u001b[43m    \u001b[49m\u001b[43mbbox_inches\u001b[49m\u001b[38;5;241;43m=\u001b[39;49m\u001b[38;5;124;43m\"\u001b[39;49m\u001b[38;5;124;43mtight\u001b[39;49m\u001b[38;5;124;43m\"\u001b[39;49m\u001b[43m,\u001b[49m\n\u001b[1;32m    188\u001b[0m \u001b[43m\u001b[49m\u001b[43m)\u001b[49m\n\u001b[1;32m    190\u001b[0m plt\u001b[38;5;241m.\u001b[39mshow()\n",
      "File \u001b[0;32m/nfs/research/icortes/ysong/anaconda3/envs/pyg_gpu/lib/python3.12/site-packages/matplotlib/pyplot.py:1243\u001b[0m, in \u001b[0;36msavefig\u001b[0;34m(*args, **kwargs)\u001b[0m\n\u001b[1;32m   1240\u001b[0m fig \u001b[38;5;241m=\u001b[39m gcf()\n\u001b[1;32m   1241\u001b[0m \u001b[38;5;66;03m# savefig default implementation has no return, so mypy is unhappy\u001b[39;00m\n\u001b[1;32m   1242\u001b[0m \u001b[38;5;66;03m# presumably this is here because subclasses can return?\u001b[39;00m\n\u001b[0;32m-> 1243\u001b[0m res \u001b[38;5;241m=\u001b[39m \u001b[43mfig\u001b[49m\u001b[38;5;241;43m.\u001b[39;49m\u001b[43msavefig\u001b[49m\u001b[43m(\u001b[49m\u001b[38;5;241;43m*\u001b[39;49m\u001b[43margs\u001b[49m\u001b[43m,\u001b[49m\u001b[43m \u001b[49m\u001b[38;5;241;43m*\u001b[39;49m\u001b[38;5;241;43m*\u001b[39;49m\u001b[43mkwargs\u001b[49m\u001b[43m)\u001b[49m  \u001b[38;5;66;03m# type: ignore[func-returns-value]\u001b[39;00m\n\u001b[1;32m   1244\u001b[0m fig\u001b[38;5;241m.\u001b[39mcanvas\u001b[38;5;241m.\u001b[39mdraw_idle()  \u001b[38;5;66;03m# Need this if 'transparent=True', to reset colors.\u001b[39;00m\n\u001b[1;32m   1245\u001b[0m \u001b[38;5;28;01mreturn\u001b[39;00m res\n",
      "File \u001b[0;32m/nfs/research/icortes/ysong/anaconda3/envs/pyg_gpu/lib/python3.12/site-packages/matplotlib/figure.py:3490\u001b[0m, in \u001b[0;36mFigure.savefig\u001b[0;34m(self, fname, transparent, **kwargs)\u001b[0m\n\u001b[1;32m   3488\u001b[0m     \u001b[38;5;28;01mfor\u001b[39;00m ax \u001b[38;5;129;01min\u001b[39;00m \u001b[38;5;28mself\u001b[39m\u001b[38;5;241m.\u001b[39maxes:\n\u001b[1;32m   3489\u001b[0m         _recursively_make_axes_transparent(stack, ax)\n\u001b[0;32m-> 3490\u001b[0m \u001b[38;5;28;43mself\u001b[39;49m\u001b[38;5;241;43m.\u001b[39;49m\u001b[43mcanvas\u001b[49m\u001b[38;5;241;43m.\u001b[39;49m\u001b[43mprint_figure\u001b[49m\u001b[43m(\u001b[49m\u001b[43mfname\u001b[49m\u001b[43m,\u001b[49m\u001b[43m \u001b[49m\u001b[38;5;241;43m*\u001b[39;49m\u001b[38;5;241;43m*\u001b[39;49m\u001b[43mkwargs\u001b[49m\u001b[43m)\u001b[49m\n",
      "File \u001b[0;32m/nfs/research/icortes/ysong/anaconda3/envs/pyg_gpu/lib/python3.12/site-packages/matplotlib/backend_bases.py:2184\u001b[0m, in \u001b[0;36mFigureCanvasBase.print_figure\u001b[0;34m(self, filename, dpi, facecolor, edgecolor, orientation, format, bbox_inches, pad_inches, bbox_extra_artists, backend, **kwargs)\u001b[0m\n\u001b[1;32m   2180\u001b[0m \u001b[38;5;28;01mtry\u001b[39;00m:\n\u001b[1;32m   2181\u001b[0m     \u001b[38;5;66;03m# _get_renderer may change the figure dpi (as vector formats\u001b[39;00m\n\u001b[1;32m   2182\u001b[0m     \u001b[38;5;66;03m# force the figure dpi to 72), so we need to set it again here.\u001b[39;00m\n\u001b[1;32m   2183\u001b[0m     \u001b[38;5;28;01mwith\u001b[39;00m cbook\u001b[38;5;241m.\u001b[39m_setattr_cm(\u001b[38;5;28mself\u001b[39m\u001b[38;5;241m.\u001b[39mfigure, dpi\u001b[38;5;241m=\u001b[39mdpi):\n\u001b[0;32m-> 2184\u001b[0m         result \u001b[38;5;241m=\u001b[39m \u001b[43mprint_method\u001b[49m\u001b[43m(\u001b[49m\n\u001b[1;32m   2185\u001b[0m \u001b[43m            \u001b[49m\u001b[43mfilename\u001b[49m\u001b[43m,\u001b[49m\n\u001b[1;32m   2186\u001b[0m \u001b[43m            \u001b[49m\u001b[43mfacecolor\u001b[49m\u001b[38;5;241;43m=\u001b[39;49m\u001b[43mfacecolor\u001b[49m\u001b[43m,\u001b[49m\n\u001b[1;32m   2187\u001b[0m \u001b[43m            \u001b[49m\u001b[43medgecolor\u001b[49m\u001b[38;5;241;43m=\u001b[39;49m\u001b[43medgecolor\u001b[49m\u001b[43m,\u001b[49m\n\u001b[1;32m   2188\u001b[0m \u001b[43m            \u001b[49m\u001b[43morientation\u001b[49m\u001b[38;5;241;43m=\u001b[39;49m\u001b[43morientation\u001b[49m\u001b[43m,\u001b[49m\n\u001b[1;32m   2189\u001b[0m \u001b[43m            \u001b[49m\u001b[43mbbox_inches_restore\u001b[49m\u001b[38;5;241;43m=\u001b[39;49m\u001b[43m_bbox_inches_restore\u001b[49m\u001b[43m,\u001b[49m\n\u001b[1;32m   2190\u001b[0m \u001b[43m            \u001b[49m\u001b[38;5;241;43m*\u001b[39;49m\u001b[38;5;241;43m*\u001b[39;49m\u001b[43mkwargs\u001b[49m\u001b[43m)\u001b[49m\n\u001b[1;32m   2191\u001b[0m \u001b[38;5;28;01mfinally\u001b[39;00m:\n\u001b[1;32m   2192\u001b[0m     \u001b[38;5;28;01mif\u001b[39;00m bbox_inches \u001b[38;5;129;01mand\u001b[39;00m restore_bbox:\n",
      "File \u001b[0;32m/nfs/research/icortes/ysong/anaconda3/envs/pyg_gpu/lib/python3.12/site-packages/matplotlib/backend_bases.py:2040\u001b[0m, in \u001b[0;36mFigureCanvasBase._switch_canvas_and_return_print_method.<locals>.<lambda>\u001b[0;34m(*args, **kwargs)\u001b[0m\n\u001b[1;32m   2036\u001b[0m     optional_kws \u001b[38;5;241m=\u001b[39m {  \u001b[38;5;66;03m# Passed by print_figure for other renderers.\u001b[39;00m\n\u001b[1;32m   2037\u001b[0m         \u001b[38;5;124m\"\u001b[39m\u001b[38;5;124mdpi\u001b[39m\u001b[38;5;124m\"\u001b[39m, \u001b[38;5;124m\"\u001b[39m\u001b[38;5;124mfacecolor\u001b[39m\u001b[38;5;124m\"\u001b[39m, \u001b[38;5;124m\"\u001b[39m\u001b[38;5;124medgecolor\u001b[39m\u001b[38;5;124m\"\u001b[39m, \u001b[38;5;124m\"\u001b[39m\u001b[38;5;124morientation\u001b[39m\u001b[38;5;124m\"\u001b[39m,\n\u001b[1;32m   2038\u001b[0m         \u001b[38;5;124m\"\u001b[39m\u001b[38;5;124mbbox_inches_restore\u001b[39m\u001b[38;5;124m\"\u001b[39m}\n\u001b[1;32m   2039\u001b[0m     skip \u001b[38;5;241m=\u001b[39m optional_kws \u001b[38;5;241m-\u001b[39m {\u001b[38;5;241m*\u001b[39minspect\u001b[38;5;241m.\u001b[39msignature(meth)\u001b[38;5;241m.\u001b[39mparameters}\n\u001b[0;32m-> 2040\u001b[0m     print_method \u001b[38;5;241m=\u001b[39m functools\u001b[38;5;241m.\u001b[39mwraps(meth)(\u001b[38;5;28;01mlambda\u001b[39;00m \u001b[38;5;241m*\u001b[39margs, \u001b[38;5;241m*\u001b[39m\u001b[38;5;241m*\u001b[39mkwargs: \u001b[43mmeth\u001b[49m\u001b[43m(\u001b[49m\n\u001b[1;32m   2041\u001b[0m \u001b[43m        \u001b[49m\u001b[38;5;241;43m*\u001b[39;49m\u001b[43margs\u001b[49m\u001b[43m,\u001b[49m\u001b[43m \u001b[49m\u001b[38;5;241;43m*\u001b[39;49m\u001b[38;5;241;43m*\u001b[39;49m\u001b[43m{\u001b[49m\u001b[43mk\u001b[49m\u001b[43m:\u001b[49m\u001b[43m \u001b[49m\u001b[43mv\u001b[49m\u001b[43m \u001b[49m\u001b[38;5;28;43;01mfor\u001b[39;49;00m\u001b[43m \u001b[49m\u001b[43mk\u001b[49m\u001b[43m,\u001b[49m\u001b[43m \u001b[49m\u001b[43mv\u001b[49m\u001b[43m \u001b[49m\u001b[38;5;129;43;01min\u001b[39;49;00m\u001b[43m \u001b[49m\u001b[43mkwargs\u001b[49m\u001b[38;5;241;43m.\u001b[39;49m\u001b[43mitems\u001b[49m\u001b[43m(\u001b[49m\u001b[43m)\u001b[49m\u001b[43m \u001b[49m\u001b[38;5;28;43;01mif\u001b[39;49;00m\u001b[43m \u001b[49m\u001b[43mk\u001b[49m\u001b[43m \u001b[49m\u001b[38;5;129;43;01mnot\u001b[39;49;00m\u001b[43m \u001b[49m\u001b[38;5;129;43;01min\u001b[39;49;00m\u001b[43m \u001b[49m\u001b[43mskip\u001b[49m\u001b[43m}\u001b[49m\u001b[43m)\u001b[49m)\n\u001b[1;32m   2042\u001b[0m \u001b[38;5;28;01melse\u001b[39;00m:  \u001b[38;5;66;03m# Let third-parties do as they see fit.\u001b[39;00m\n\u001b[1;32m   2043\u001b[0m     print_method \u001b[38;5;241m=\u001b[39m meth\n",
      "File \u001b[0;32m/nfs/research/icortes/ysong/anaconda3/envs/pyg_gpu/lib/python3.12/site-packages/matplotlib/backends/backend_agg.py:481\u001b[0m, in \u001b[0;36mFigureCanvasAgg.print_png\u001b[0;34m(self, filename_or_obj, metadata, pil_kwargs)\u001b[0m\n\u001b[1;32m    434\u001b[0m \u001b[38;5;28;01mdef\u001b[39;00m \u001b[38;5;21mprint_png\u001b[39m(\u001b[38;5;28mself\u001b[39m, filename_or_obj, \u001b[38;5;241m*\u001b[39m, metadata\u001b[38;5;241m=\u001b[39m\u001b[38;5;28;01mNone\u001b[39;00m, pil_kwargs\u001b[38;5;241m=\u001b[39m\u001b[38;5;28;01mNone\u001b[39;00m):\n\u001b[1;32m    435\u001b[0m \u001b[38;5;250m    \u001b[39m\u001b[38;5;124;03m\"\"\"\u001b[39;00m\n\u001b[1;32m    436\u001b[0m \u001b[38;5;124;03m    Write the figure to a PNG file.\u001b[39;00m\n\u001b[1;32m    437\u001b[0m \n\u001b[0;32m   (...)\u001b[0m\n\u001b[1;32m    479\u001b[0m \u001b[38;5;124;03m        *metadata*, including the default 'Software' key.\u001b[39;00m\n\u001b[1;32m    480\u001b[0m \u001b[38;5;124;03m    \"\"\"\u001b[39;00m\n\u001b[0;32m--> 481\u001b[0m     \u001b[38;5;28;43mself\u001b[39;49m\u001b[38;5;241;43m.\u001b[39;49m\u001b[43m_print_pil\u001b[49m\u001b[43m(\u001b[49m\u001b[43mfilename_or_obj\u001b[49m\u001b[43m,\u001b[49m\u001b[43m \u001b[49m\u001b[38;5;124;43m\"\u001b[39;49m\u001b[38;5;124;43mpng\u001b[39;49m\u001b[38;5;124;43m\"\u001b[39;49m\u001b[43m,\u001b[49m\u001b[43m \u001b[49m\u001b[43mpil_kwargs\u001b[49m\u001b[43m,\u001b[49m\u001b[43m \u001b[49m\u001b[43mmetadata\u001b[49m\u001b[43m)\u001b[49m\n",
      "File \u001b[0;32m/nfs/research/icortes/ysong/anaconda3/envs/pyg_gpu/lib/python3.12/site-packages/matplotlib/backends/backend_agg.py:430\u001b[0m, in \u001b[0;36mFigureCanvasAgg._print_pil\u001b[0;34m(self, filename_or_obj, fmt, pil_kwargs, metadata)\u001b[0m\n\u001b[1;32m    425\u001b[0m \u001b[38;5;250m\u001b[39m\u001b[38;5;124;03m\"\"\"\u001b[39;00m\n\u001b[1;32m    426\u001b[0m \u001b[38;5;124;03mDraw the canvas, then save it using `.image.imsave` (to which\u001b[39;00m\n\u001b[1;32m    427\u001b[0m \u001b[38;5;124;03m*pil_kwargs* and *metadata* are forwarded).\u001b[39;00m\n\u001b[1;32m    428\u001b[0m \u001b[38;5;124;03m\"\"\"\u001b[39;00m\n\u001b[1;32m    429\u001b[0m FigureCanvasAgg\u001b[38;5;241m.\u001b[39mdraw(\u001b[38;5;28mself\u001b[39m)\n\u001b[0;32m--> 430\u001b[0m \u001b[43mmpl\u001b[49m\u001b[38;5;241;43m.\u001b[39;49m\u001b[43mimage\u001b[49m\u001b[38;5;241;43m.\u001b[39;49m\u001b[43mimsave\u001b[49m\u001b[43m(\u001b[49m\n\u001b[1;32m    431\u001b[0m \u001b[43m    \u001b[49m\u001b[43mfilename_or_obj\u001b[49m\u001b[43m,\u001b[49m\u001b[43m \u001b[49m\u001b[38;5;28;43mself\u001b[39;49m\u001b[38;5;241;43m.\u001b[39;49m\u001b[43mbuffer_rgba\u001b[49m\u001b[43m(\u001b[49m\u001b[43m)\u001b[49m\u001b[43m,\u001b[49m\u001b[43m \u001b[49m\u001b[38;5;28;43mformat\u001b[39;49m\u001b[38;5;241;43m=\u001b[39;49m\u001b[43mfmt\u001b[49m\u001b[43m,\u001b[49m\u001b[43m \u001b[49m\u001b[43morigin\u001b[49m\u001b[38;5;241;43m=\u001b[39;49m\u001b[38;5;124;43m\"\u001b[39;49m\u001b[38;5;124;43mupper\u001b[39;49m\u001b[38;5;124;43m\"\u001b[39;49m\u001b[43m,\u001b[49m\n\u001b[1;32m    432\u001b[0m \u001b[43m    \u001b[49m\u001b[43mdpi\u001b[49m\u001b[38;5;241;43m=\u001b[39;49m\u001b[38;5;28;43mself\u001b[39;49m\u001b[38;5;241;43m.\u001b[39;49m\u001b[43mfigure\u001b[49m\u001b[38;5;241;43m.\u001b[39;49m\u001b[43mdpi\u001b[49m\u001b[43m,\u001b[49m\u001b[43m \u001b[49m\u001b[43mmetadata\u001b[49m\u001b[38;5;241;43m=\u001b[39;49m\u001b[43mmetadata\u001b[49m\u001b[43m,\u001b[49m\u001b[43m \u001b[49m\u001b[43mpil_kwargs\u001b[49m\u001b[38;5;241;43m=\u001b[39;49m\u001b[43mpil_kwargs\u001b[49m\u001b[43m)\u001b[49m\n",
      "File \u001b[0;32m/nfs/research/icortes/ysong/anaconda3/envs/pyg_gpu/lib/python3.12/site-packages/matplotlib/image.py:1644\u001b[0m, in \u001b[0;36mimsave\u001b[0;34m(fname, arr, vmin, vmax, cmap, format, origin, dpi, metadata, pil_kwargs)\u001b[0m\n\u001b[1;32m   1642\u001b[0m pil_kwargs\u001b[38;5;241m.\u001b[39msetdefault(\u001b[38;5;124m\"\u001b[39m\u001b[38;5;124mformat\u001b[39m\u001b[38;5;124m\"\u001b[39m, \u001b[38;5;28mformat\u001b[39m)\n\u001b[1;32m   1643\u001b[0m pil_kwargs\u001b[38;5;241m.\u001b[39msetdefault(\u001b[38;5;124m\"\u001b[39m\u001b[38;5;124mdpi\u001b[39m\u001b[38;5;124m\"\u001b[39m, (dpi, dpi))\n\u001b[0;32m-> 1644\u001b[0m \u001b[43mimage\u001b[49m\u001b[38;5;241;43m.\u001b[39;49m\u001b[43msave\u001b[49m\u001b[43m(\u001b[49m\u001b[43mfname\u001b[49m\u001b[43m,\u001b[49m\u001b[43m \u001b[49m\u001b[38;5;241;43m*\u001b[39;49m\u001b[38;5;241;43m*\u001b[39;49m\u001b[43mpil_kwargs\u001b[49m\u001b[43m)\u001b[49m\n",
      "File \u001b[0;32m/nfs/research/icortes/ysong/anaconda3/envs/pyg_gpu/lib/python3.12/site-packages/PIL/Image.py:2600\u001b[0m, in \u001b[0;36mImage.save\u001b[0;34m(self, fp, format, **params)\u001b[0m\n\u001b[1;32m   2598\u001b[0m         fp \u001b[38;5;241m=\u001b[39m builtins\u001b[38;5;241m.\u001b[39mopen(filename, \u001b[38;5;124m\"\u001b[39m\u001b[38;5;124mr+b\u001b[39m\u001b[38;5;124m\"\u001b[39m)\n\u001b[1;32m   2599\u001b[0m     \u001b[38;5;28;01melse\u001b[39;00m:\n\u001b[0;32m-> 2600\u001b[0m         fp \u001b[38;5;241m=\u001b[39m \u001b[43mbuiltins\u001b[49m\u001b[38;5;241;43m.\u001b[39;49m\u001b[43mopen\u001b[49m\u001b[43m(\u001b[49m\u001b[43mfilename\u001b[49m\u001b[43m,\u001b[49m\u001b[43m \u001b[49m\u001b[38;5;124;43m\"\u001b[39;49m\u001b[38;5;124;43mw+b\u001b[39;49m\u001b[38;5;124;43m\"\u001b[39;49m\u001b[43m)\u001b[49m\n\u001b[1;32m   2601\u001b[0m \u001b[38;5;28;01melse\u001b[39;00m:\n\u001b[1;32m   2602\u001b[0m     fp \u001b[38;5;241m=\u001b[39m cast(IO[\u001b[38;5;28mbytes\u001b[39m], fp)\n",
      "\u001b[0;31mFileNotFoundError\u001b[0m: [Errno 2] No such file or directory: '/nfs/research/irene/ysong/RESULTS/GeneCellType/GeneSpectra/MTG/CellGraphX/notebooks/logs/tsne_plot.png/tsne_plot_embed_5_species_ct_name_graphconv.png'"
     ]
    },
    {
     "data": {
      "image/png": "[encoded data removed]",
      "text/plain": [
       "<Figure size 900x800 with 1 Axes>"
      ]
     },
     "metadata": {},
     "output_type": "display_data"
    }
   ],
   "source": [
    "vis.plot_tsne(\n",
    "        vis.get_tsne_embed(vis.load_model()),\n",
    "        out_path=f\"{trainer.log_dir}/tsne_plot.png\",\n",
    "    )"
   ]
  },
  {
   "cell_type": "code",
   "execution_count": null,
   "id": "9fcd9629-1296-4ba7-8272-4e94b2001201",
   "metadata": {},
   "outputs": [],
   "source": []
  }
 ],
 "metadata": {
  "kernelspec": {
   "display_name": "PyG_GPU",
   "language": "python",
   "name": "pyg_gpu"
  },
  "language_info": {
   "codemirror_mode": {
    "name": "ipython",
    "version": 3
   },
   "file_extension": ".py",
   "mimetype": "text/x-python",
   "name": "python",
   "nbconvert_exporter": "python",
   "pygments_lexer": "ipython3",
   "version": "3.12.7"
  }
 },
 "nbformat": 4,
 "nbformat_minor": 5
}
